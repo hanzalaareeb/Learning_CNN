{
 "cells": [
  {
   "cell_type": "code",
   "execution_count": 1,
   "id": "ffe4a681-0712-4a5a-86b5-3c7f1447687c",
   "metadata": {},
   "outputs": [],
   "source": [
    "import numpy as np\n",
    "import tensorflow as tf\n",
    "from tensorflow.keras import layers, models\n",
    "import matplotlib.pyplot as plt\n",
    "from tensorflow.keras.datasets import mnist\n"
   ]
  },
  {
   "cell_type": "markdown",
   "id": "a79750c7-a7e7-4546-90f6-3fdb5ffa0850",
   "metadata": {},
   "source": [
    "### Load the MNIST dataset"
   ]
  },
  {
   "cell_type": "code",
   "execution_count": 2,
   "id": "d29b60a5-083c-4c0b-a03a-8aa9770bf973",
   "metadata": {},
   "outputs": [
    {
     "name": "stdout",
     "output_type": "stream",
     "text": [
      "Downloading data from https://storage.googleapis.com/tensorflow/tf-keras-datasets/mnist.npz\n",
      "11490434/11490434 [==============================] - 3s 0us/step\n"
     ]
    }
   ],
   "source": [
    "(train_image, train_labels), (test_image, test_labels) = mnist.load_data()\n"
   ]
  },
  {
   "cell_type": "markdown",
   "id": "e2932758-df66-4dfb-a8af-9b84570d40be",
   "metadata": {},
   "source": [
    "### Normalize the dataset "
   ]
  },
  {
   "cell_type": "code",
   "execution_count": 3,
   "id": "4d40dcb4-04b1-47d7-879d-acf971310e90",
   "metadata": {},
   "outputs": [],
   "source": [
    "train_image = train_image.reshape((60000, 28, 28, 1)).astype('float32') / 255\n",
    "test_image = test_image.reshape((10000, 28, 28, 1)).astype('float32') / 255"
   ]
  },
  {
   "cell_type": "markdown",
   "id": "3d6c8d0c-6e3e-49be-b8b3-2f012a2fcbb0",
   "metadata": {},
   "source": [
    "## Build the CNN Model\n",
    "\n",
    "    We will create a simple CNN model that includes a convolutional layer with edge-detecting filters."
   ]
  },
  {
   "cell_type": "code",
   "execution_count": 6,
   "id": "354300ca-cd37-43bb-8ece-4629b2357668",
   "metadata": {},
   "outputs": [
    {
     "name": "stdout",
     "output_type": "stream",
     "text": [
      "Model: \"sequential_2\"\n",
      "_________________________________________________________________\n",
      " Layer (type)                Output Shape              Param #   \n",
      "=================================================================\n",
      " conv2d_2 (Conv2D)           (None, 26, 26, 32)        320       \n",
      "                                                                 \n",
      " max_pooling2d_2 (MaxPooling  (None, 13, 13, 32)       0         \n",
      " 2D)                                                             \n",
      "                                                                 \n",
      " conv2d_3 (Conv2D)           (None, 11, 11, 64)        18496     \n",
      "                                                                 \n",
      " max_pooling2d_3 (MaxPooling  (None, 5, 5, 64)         0         \n",
      " 2D)                                                             \n",
      "                                                                 \n",
      " flatten_1 (Flatten)         (None, 1600)              0         \n",
      "                                                                 \n",
      " dense_1 (Dense)             (None, 64)                102464    \n",
      "                                                                 \n",
      " dense_2 (Dense)             (None, 10)                650       \n",
      "                                                                 \n",
      "=================================================================\n",
      "Total params: 121,930\n",
      "Trainable params: 121,930\n",
      "Non-trainable params: 0\n",
      "_________________________________________________________________\n"
     ]
    }
   ],
   "source": [
    "model = models.Sequential()\n",
    "\n",
    "# 1) convolutional layer\n",
    "model.add(layers.Conv2D(32, (3, 3), activation='relu', input_shape=(28, 28, 1)))\n",
    "\n",
    "\n",
    "# 2) Max pooling layer\n",
    "model.add(layers.MaxPooling2D((2, 2)))\n",
    "\n",
    "# 3) Convolutional layer 2\n",
    "model.add(layers.Conv2D(64, (3, 3), activation='relu'))\n",
    "\n",
    "# 4) Max Pooling layer 2\n",
    "model.add(layers.MaxPooling2D((2, 2)))\n",
    "\n",
    "# 5) Flatten the output\n",
    "model.add(layers.Flatten())\n",
    "\n",
    "\n",
    "# 6) fully connected layer\n",
    "model.add(layers.Dense(64, activation='relu'))\n",
    "\n",
    "# 7) Output layer\n",
    "model.add(layers.Dense(10, activation='softmax'))\n",
    "\n",
    "model.summary()"
   ]
  },
  {
   "cell_type": "markdown",
   "id": "efd299d8-45d8-4d58-81b8-c4348848fa85",
   "metadata": {},
   "source": [
    "### Compile and trian the Model"
   ]
  },
  {
   "cell_type": "code",
   "execution_count": 9,
   "id": "e3081228-a5d1-4afa-abf8-e05675906093",
   "metadata": {},
   "outputs": [
    {
     "name": "stdout",
     "output_type": "stream",
     "text": [
      "Epoch 1/5\n",
      "750/750 [==============================] - 11s 14ms/step - loss: 0.2083 - accuracy: 0.9361 - val_loss: 0.0731 - val_accuracy: 0.9800\n",
      "Epoch 2/5\n",
      "750/750 [==============================] - 9s 11ms/step - loss: 0.0620 - accuracy: 0.9811 - val_loss: 0.0604 - val_accuracy: 0.9827\n",
      "Epoch 3/5\n",
      "750/750 [==============================] - 10s 13ms/step - loss: 0.0428 - accuracy: 0.9863 - val_loss: 0.0507 - val_accuracy: 0.9850\n",
      "Epoch 4/5\n",
      "750/750 [==============================] - 8s 11ms/step - loss: 0.0332 - accuracy: 0.9893 - val_loss: 0.0457 - val_accuracy: 0.9870\n",
      "Epoch 5/5\n",
      "750/750 [==============================] - 9s 12ms/step - loss: 0.0253 - accuracy: 0.9919 - val_loss: 0.0455 - val_accuracy: 0.9868\n"
     ]
    },
    {
     "data": {
      "text/plain": [
       "<keras.callbacks.History at 0x219e5e33040>"
      ]
     },
     "execution_count": 9,
     "metadata": {},
     "output_type": "execute_result"
    }
   ],
   "source": [
    "model.compile(optimizer='adam',\n",
    "              loss='sparse_categorical_crossentropy',\n",
    "              metrics=['accuracy'])\n",
    "\n",
    "model.fit(train_image, train_labels, epochs=5, batch_size=64, validation_split=0.2)"
   ]
  },
  {
   "cell_type": "markdown",
   "id": "5be617b7-0474-48e7-a99d-b6f3c1770af0",
   "metadata": {},
   "source": [
    "### Visualize Edge Detection\n",
    "    -To visualize the edge detection by CNN, we will extract the output from the first convolutional layer. "
   ]
  },
  {
   "cell_type": "code",
   "execution_count": 13,
   "id": "59d4f952-a6a8-4264-90c7-f08caf3095da",
   "metadata": {},
   "outputs": [
    {
     "name": "stdout",
     "output_type": "stream",
     "text": [
      "1/1 [==============================] - 0s 116ms/step\n"
     ]
    },
    {
     "data": {
      "image/png": "[encoded data removed]",
      "text/plain": [
       "<Figure size 1500x800 with 32 Axes>"
      ]
     },
     "metadata": {},
     "output_type": "display_data"
    }
   ],
   "source": [
    "# Define a new model to get output of the ffirst convolutional layer\n",
    "\n",
    "layer_output = [layer.output for layer  in model.layers]\n",
    "activation_model = models.Model(inputs=model.input, outputs=layer_output)\n",
    "\n",
    "# Get the activation fot the test image\n",
    "test_images = test_image[0].reshape(1, 28, 28, 1)\n",
    "activations = activation_model.predict(test_images)\n",
    "\n",
    "# Extract the output of the first convolutional layer\n",
    "first_layer_activation = activations[0]\n",
    "\n",
    "# Plot the feature maps\n",
    "fig, ax = plt.subplots(4, 8, figsize=(15, 8))\n",
    "for i in range(32):\n",
    "    ax[i // 8, i % 8].imshow(first_layer_activation[0, :, :, i], cmap='viridis')\n",
    "    ax[i // 8, i % 8].axis('off')\n",
    "plt.show()"
   ]
  },
  {
   "cell_type": "markdown",
   "id": "78f8dfcf-8ced-40f7-93ea-28554f7c1a27",
   "metadata": {},
   "source": [
    "## Shows edge of Number 7 from mnist dataset"
   ]
  },
  {
   "cell_type": "code",
   "execution_count": 14,
   "id": "dc8cc26b-fe18-4b45-ba7d-c6f76adcd986",
   "metadata": {},
   "outputs": [],
   "source": [
    "from tensorflow.keras.preprocessing.image import ImageDataGenerator"
   ]
  },
  {
   "cell_type": "code",
   "execution_count": 16,
   "id": "cb669cc9-9bb3-4ef6-8b9a-f981b42f8115",
   "metadata": {},
   "outputs": [],
   "source": [
    "# Data agumentation\n",
    "datagen = ImageDataGenerator(\n",
    "    rotation_range=10,\n",
    "    width_shift_range=0.1,\n",
    "    height_shift_range=0.1,\n",
    "    shear_range=0.1,\n",
    "    zoom_range=0.1,\n",
    "    horizontal_flip=True,\n",
    "    fill_mode='nearest'\n",
    ")\n"
   ]
  },
  {
   "cell_type": "code",
   "execution_count": 17,
   "id": "6bcf40e7-0836-4de2-b490-4b4bd471b763",
   "metadata": {},
   "outputs": [],
   "source": [
    "# Fit the datagen on training data\n",
    "datagen.fit(train_image)\n",
    "\n",
    "# Modified model with dropout\n",
    "model = models.Sequential()\n",
    "\n",
    "# Convolutional layer with Dropout\n",
    "model.add(layers.Conv2D(32, (3, 3), activation='relu', input_shape=(28, 28, 1)))\n",
    "model.add(layers.MaxPooling2D((2, 2)))\n",
    "model.add(layers.Dropout(0.25))"
   ]
  },
  {
   "cell_type": "code",
   "execution_count": 18,
   "id": "6a0018fa-d596-4353-9435-766f6c399ab7",
   "metadata": {},
   "outputs": [],
   "source": [
    "# 2nd Convolutional layer with Dropout\n",
    "model.add(layers.Conv2D(64, (3, 3), activation='relu'))\n",
    "model.add(layers.MaxPooling2D((2, 2)))\n",
    "model.add(layers.Dropout(0.25))"
   ]
  },
  {
   "cell_type": "code",
   "execution_count": 19,
   "id": "ed8f4f39-5634-49d9-8d14-17f541ee34b2",
   "metadata": {},
   "outputs": [],
   "source": [
    "# Fully connected layers\n",
    "model.add(layers.Flatten())\n",
    "model.add(layers.Dense(128, activation='relu'))\n",
    "model.add(layers.Dropout(0.5))\n",
    "model.add(layers.Dense(10, activation='softmax'))\n",
    "\n",
    "model.compile(optimizer='adam',\n",
    "             loss='sparse_categorical_crossentropy',\n",
    "             metrics=['accuracy'])\n"
   ]
  },
  {
   "cell_type": "code",
   "execution_count": 21,
   "id": "ee29c4b4-fe7e-4e48-a863-0e63455180ca",
   "metadata": {},
   "outputs": [
    {
     "name": "stdout",
     "output_type": "stream",
     "text": [
      "Epoch 1/10\n",
      "938/938 [==============================] - 36s 37ms/step - loss: 0.8282 - accuracy: 0.7195 - val_loss: 0.1684 - val_accuracy: 0.9480\n",
      "Epoch 2/10\n",
      "938/938 [==============================] - 35s 37ms/step - loss: 0.4329 - accuracy: 0.8649 - val_loss: 0.0920 - val_accuracy: 0.9713\n",
      "Epoch 3/10\n",
      "938/938 [==============================] - 34s 37ms/step - loss: 0.3396 - accuracy: 0.8953 - val_loss: 0.0795 - val_accuracy: 0.9730\n",
      "Epoch 4/10\n",
      "938/938 [==============================] - 34s 37ms/step - loss: 0.2908 - accuracy: 0.9097 - val_loss: 0.0673 - val_accuracy: 0.9772\n",
      "Epoch 5/10\n",
      "938/938 [==============================] - 34s 36ms/step - loss: 0.2538 - accuracy: 0.9226 - val_loss: 0.0564 - val_accuracy: 0.9795\n",
      "Epoch 6/10\n",
      "938/938 [==============================] - 34s 37ms/step - loss: 0.2339 - accuracy: 0.9290 - val_loss: 0.0498 - val_accuracy: 0.9833\n",
      "Epoch 7/10\n",
      "938/938 [==============================] - 35s 37ms/step - loss: 0.2218 - accuracy: 0.9324 - val_loss: 0.0457 - val_accuracy: 0.9846\n",
      "Epoch 8/10\n",
      "938/938 [==============================] - 34s 36ms/step - loss: 0.2096 - accuracy: 0.9360 - val_loss: 0.0450 - val_accuracy: 0.9843\n",
      "Epoch 9/10\n",
      "938/938 [==============================] - 34s 37ms/step - loss: 0.1929 - accuracy: 0.9412 - val_loss: 0.0413 - val_accuracy: 0.9858\n",
      "Epoch 10/10\n",
      "938/938 [==============================] - 35s 37ms/step - loss: 0.1879 - accuracy: 0.9430 - val_loss: 0.0404 - val_accuracy: 0.9865\n"
     ]
    },
    {
     "data": {
      "text/plain": [
       "<keras.callbacks.History at 0x219ee0ef4c0>"
      ]
     },
     "execution_count": 21,
     "metadata": {},
     "output_type": "execute_result"
    }
   ],
   "source": [
    "# Train the model with data agumentation\n",
    "\n",
    "model.fit(datagen.flow(train_image, train_labels, batch_size=64),\n",
    "           epochs=10,\n",
    "           validation_data= (test_image, test_labels))"
   ]
  },
  {
   "cell_type": "markdown",
   "id": "3c8710b9-e825-4100-8c09-55866295a518",
   "metadata": {},
   "source": [
    "### Visualising Grad-CAM\n",
    "- Grad-CAM helps visualize class-discriminative regions of the input image."
   ]
  },
  {
   "cell_type": "code",
   "execution_count": 31,
   "id": "00448524-7406-4ca3-af16-8ba1e72dc082",
   "metadata": {},
   "outputs": [
    {
     "name": "stderr",
     "output_type": "stream",
     "text": [
      "C:\\Users\\khanh\\AppData\\Local\\Temp\\ipykernel_1572\\689015209.py:53: MatplotlibDeprecationWarning: The get_cmap function was deprecated in Matplotlib 3.7 and will be removed two minor releases later. Use ``matplotlib.colormaps[name]`` or ``matplotlib.colormaps.get_cmap(obj)`` instead.\n",
      "  jet = plt.cm.get_cmap(\"jet\")\n"
     ]
    },
    {
     "data": {
      "image/png": "[encoded data removed]",
      "text/plain": [
       "<Figure size 640x480 with 1 Axes>"
      ]
     },
     "metadata": {},
     "output_type": "display_data"
    }
   ],
   "source": [
    "def get_gradcam_model(model, layer_name):\n",
    "    grad_model = tf.keras.models.Model(\n",
    "        [model.inputs], \n",
    "        [model.get_layer(layer_name).output, model.output]\n",
    "    )\n",
    "    return grad_model\n",
    "\n",
    "def compute_gradcam(input_image, grad_model, pred_index=None):\n",
    "    with tf.GradientTape() as tape:\n",
    "        conv_outputs, predictions = grad_model(input_image)\n",
    "        if pred_index is None:\n",
    "            pred_index = tf.argmax(predictions[0])\n",
    "        class_channel = predictions[:, pred_index]\n",
    "\n",
    "    grads = tape.gradient(class_channel, conv_outputs)\n",
    "    pooled_grads = tf.reduce_mean(grads, axis=(0, 1, 2))\n",
    "    conv_outputs = conv_outputs[0]\n",
    "    heatmap = conv_outputs @ pooled_grads[..., tf.newaxis]\n",
    "    heatmap = tf.squeeze(heatmap)\n",
    "    heatmap = tf.maximum(heatmap, 0) / tf.math.reduce_max(heatmap)\n",
    "    return heatmap.numpy()\n",
    "'''\n",
    "def plot_gradcam(heatmap, image):\n",
    "    heatmap = np.uint8(255 * heatmap)\n",
    "    heatmap = np.squeeze(heatmap)\n",
    "    heatmap = np.expand_dims(heatmap, axis=-1)\n",
    "\n",
    "    # Resize heatmap to match image size\n",
    "    heatmap = tf.image.resize(heatmap, size=(28, 28)).numpy()\n",
    "\n",
    "    # Normalize the image to be in range 0-255\n",
    "    image = np.uint8(255 * (image - np.min(image)) / (np.max(image) - np.min(image)))\n",
    "\n",
    "    # Convert the heatmap to RGB\n",
    "    heatmap = np.repeat(heatmap, 3, axis=-1)\n",
    "\n",
    "    # Apply the heatmap on the image\n",
    "    superimposed_img = heatmap * 0.4 + image\n",
    "\n",
    "    # Clip the values to be in the valid range\n",
    "    superimposed_img = np.clip(superimposed_img, 0, 255).astype(np.uint8)\n",
    "\n",
    "    # Plot the superimposed image\n",
    "    plt.imshow(superimposed_img)\n",
    "    plt.axis('off')\n",
    "    plt.show()'''\n",
    "\n",
    "def plot_gradcam(heatmap, image, alpha=0.4):\n",
    "    # Rescale heatmap to a range of 0 to 255\n",
    "    heatmap = np.uint8(255 * heatmap)\n",
    "    \n",
    "    # Use jet colormap to colorize heatmap\n",
    "    jet = plt.cm.get_cmap(\"jet\")\n",
    "    \n",
    "    # Use RGB values of the colormap\n",
    "    jet_colors = jet(np.arange(256))[:, :3]\n",
    "    jet_heatmap = jet_colors[heatmap]\n",
    "    \n",
    "    # Create an image with RGB colorized heatmap\n",
    "    jet_heatmap = tf.image.resize(jet_heatmap, (image.shape[0], image.shape[1]))\n",
    "    jet_heatmap = tf.keras.preprocessing.image.array_to_img(jet_heatmap)\n",
    "    jet_heatmap = np.array(jet_heatmap)\n",
    "\n",
    "    # Superimpose the heatmap on the original image\n",
    "    superimposed_img = jet_heatmap * alpha + image\n",
    "    \n",
    "    # Normalize the combined image\n",
    "    superimposed_img = np.clip(superimposed_img, 0, 255).astype(np.uint8)\n",
    "    \n",
    "    # Display the image\n",
    "    plt.imshow(superimposed_img)\n",
    "    plt.axis('off')\n",
    "    plt.show()\n",
    "\n",
    "\n",
    "# Get Grad-CAM model\n",
    "# gradcam_model = get_gradcam_model(model, 'conv2d_4')\n",
    "\n",
    "# Get test image\n",
    "test_image = test_images[0].reshape(1, 28, 28, 1)\n",
    "\n",
    "# Compute Grad-CAM heatmap\n",
    "heatmap = compute_gradcam(test_image, gradcam_model)\n",
    "\n",
    "# Plot Grad-CAM\n",
    "plot_gradcam(heatmap, test_images[0])\n"
   ]
  },
  {
   "cell_type": "code",
   "execution_count": null,
   "id": "bc2c087a-0552-46bf-b5d7-c74116fac115",
   "metadata": {},
   "outputs": [],
   "source": []
  }
 ],
 "metadata": {
  "kernelspec": {
   "display_name": "Python 3 (ipykernel)",
   "language": "python",
   "name": "python3"
  },
  "language_info": {
   "codemirror_mode": {
    "name": "ipython",
    "version": 3
   },
   "file_extension": ".py",
   "mimetype": "text/x-python",
   "name": "python",
   "nbconvert_exporter": "python",
   "pygments_lexer": "ipython3",
   "version": "3.10.13"
  }
 },
 "nbformat": 4,
 "nbformat_minor": 5
}
