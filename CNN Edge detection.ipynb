{
 "cells": [
  {
   "cell_type": "code",
   "execution_count": 1,
   "id": "ffe4a681-0712-4a5a-86b5-3c7f1447687c",
   "metadata": {},
   "outputs": [],
   "source": [
    "import numpy as np\n",
    "import tensorflow as tf\n",
    "from tensorflow.keras import layers, models\n",
    "import matplotlib.pyplot as plt\n",
    "from tensorflow.keras.datasets import mnist\n"
   ]
  },
  {
   "cell_type": "markdown",
   "id": "a79750c7-a7e7-4546-90f6-3fdb5ffa0850",
   "metadata": {},
   "source": [
    "### Load the MNIST dataset"
   ]
  },
  {
   "cell_type": "code",
   "execution_count": 2,
   "id": "d29b60a5-083c-4c0b-a03a-8aa9770bf973",
   "metadata": {},
   "outputs": [
    {
     "name": "stdout",
     "output_type": "stream",
     "text": [
      "Downloading data from https://storage.googleapis.com/tensorflow/tf-keras-datasets/mnist.npz\n",
      "11490434/11490434 [==============================] - 3s 0us/step\n"
     ]
    }
   ],
   "source": [
    "(train_image, train_labels), (test_image, test_labels) = mnist.load_data()\n"
   ]
  },
  {
   "cell_type": "markdown",
   "id": "e2932758-df66-4dfb-a8af-9b84570d40be",
   "metadata": {},
   "source": [
    "### Normalize the dataset "
   ]
  },
  {
   "cell_type": "code",
   "execution_count": 3,
   "id": "4d40dcb4-04b1-47d7-879d-acf971310e90",
   "metadata": {},
   "outputs": [],
   "source": [
    "train_image = train_image.reshape((60000, 28, 28, 1)).astype('float32') / 255\n",
    "test_image = test_image.reshape((10000, 28, 28, 1)).astype('float32') / 255"
   ]
  },
  {
   "cell_type": "markdown",
   "id": "3d6c8d0c-6e3e-49be-b8b3-2f012a2fcbb0",
   "metadata": {},
   "source": [
    "## Build the CNN Model\n",
    "\n",
    "    We will create a simple CNN model that includes a convolutional layer with edge-detecting filters."
   ]
  },
  {
   "cell_type": "code",
   "execution_count": 6,
   "id": "354300ca-cd37-43bb-8ece-4629b2357668",
   "metadata": {},
   "outputs": [
    {
     "name": "stdout",
     "output_type": "stream",
     "text": [
      "Model: \"sequential_2\"\n",
      "_________________________________________________________________\n",
      " Layer (type)                Output Shape              Param #   \n",
      "=================================================================\n",
      " conv2d_2 (Conv2D)           (None, 26, 26, 32)        320       \n",
      "                                                                 \n",
      " max_pooling2d_2 (MaxPooling  (None, 13, 13, 32)       0         \n",
      " 2D)                                                             \n",
      "                                                                 \n",
      " conv2d_3 (Conv2D)           (None, 11, 11, 64)        18496     \n",
      "                                                                 \n",
      " max_pooling2d_3 (MaxPooling  (None, 5, 5, 64)         0         \n",
      " 2D)                                                             \n",
      "                                                                 \n",
      " flatten_1 (Flatten)         (None, 1600)              0         \n",
      "                                                                 \n",
      " dense_1 (Dense)             (None, 64)                102464    \n",
      "                                                                 \n",
      " dense_2 (Dense)             (None, 10)                650       \n",
      "                                                                 \n",
      "=================================================================\n",
      "Total params: 121,930\n",
      "Trainable params: 121,930\n",
      "Non-trainable params: 0\n",
      "_________________________________________________________________\n"
     ]
    }
   ],
   "source": [
    "model = models.Sequential()\n",
    "\n",
    "# 1) convolutional layer\n",
    "model.add(layers.Conv2D(32, (3, 3), activation='relu', input_shape=(28, 28, 1)))\n",
    "\n",
    "\n",
    "# 2) Max pooling layer\n",
    "model.add(layers.MaxPooling2D((2, 2)))\n",
    "\n",
    "# 3) Convolutional layer 2\n",
    "model.add(layers.Conv2D(64, (3, 3), activation='relu'))\n",
    "\n",
    "# 4) Max Pooling layer 2\n",
    "model.add(layers.MaxPooling2D((2, 2)))\n",
    "\n",
    "# 5) Flatten the output\n",
    "model.add(layers.Flatten())\n",
    "\n",
    "\n",
    "# 6) fully connected layer\n",
    "model.add(layers.Dense(64, activation='relu'))\n",
    "\n",
    "# 7) Output layer\n",
    "model.add(layers.Dense(10, activation='softmax'))\n",
    "\n",
    "model.summary()"
   ]
  },
  {
   "cell_type": "markdown",
   "id": "efd299d8-45d8-4d58-81b8-c4348848fa85",
   "metadata": {},
   "source": [
    "### Compile and trian the Model"
   ]
  },
  {
   "cell_type": "code",
   "execution_count": 9,
   "id": "e3081228-a5d1-4afa-abf8-e05675906093",
   "metadata": {},
   "outputs": [
    {
     "name": "stdout",
     "output_type": "stream",
     "text": [
      "Epoch 1/5\n",
      "750/750 [==============================] - 11s 14ms/step - loss: 0.2083 - accuracy: 0.9361 - val_loss: 0.0731 - val_accuracy: 0.9800\n",
      "Epoch 2/5\n",
      "750/750 [==============================] - 9s 11ms/step - loss: 0.0620 - accuracy: 0.9811 - val_loss: 0.0604 - val_accuracy: 0.9827\n",
      "Epoch 3/5\n",
      "750/750 [==============================] - 10s 13ms/step - loss: 0.0428 - accuracy: 0.9863 - val_loss: 0.0507 - val_accuracy: 0.9850\n",
      "Epoch 4/5\n",
      "750/750 [==============================] - 8s 11ms/step - loss: 0.0332 - accuracy: 0.9893 - val_loss: 0.0457 - val_accuracy: 0.9870\n",
      "Epoch 5/5\n",
      "750/750 [==============================] - 9s 12ms/step - loss: 0.0253 - accuracy: 0.9919 - val_loss: 0.0455 - val_accuracy: 0.9868\n"
     ]
    },
    {
     "data": {
      "text/plain": [
       "<keras.callbacks.History at 0x219e5e33040>"
      ]
     },
     "execution_count": 9,
     "metadata": {},
     "output_type": "execute_result"
    }
   ],
   "source": [
    "model.compile(optimizer='adam',\n",
    "              loss='sparse_categorical_crossentropy',\n",
    "              metrics=['accuracy'])\n",
    "\n",
    "model.fit(train_image, train_labels, epochs=5, batch_size=64, validation_split=0.2)"
   ]
  },
  {
   "cell_type": "markdown",
   "id": "5be617b7-0474-48e7-a99d-b6f3c1770af0",
   "metadata": {},
   "source": [
    "### Visualize Edge Detection\n",
    "    -To visualize the edge detection by CNN, we will extract the output from the first convolutional layer. "
   ]
  },
  {
   "cell_type": "code",
   "execution_count": 13,
   "id": "59d4f952-a6a8-4264-90c7-f08caf3095da",
   "metadata": {},
   "outputs": [
    {
     "name": "stdout",
     "output_type": "stream",
     "text": [
      "1/1 [==============================] - 0s 116ms/step\n"
     ]
    },
    {
     "data": {
      "image/png": "[encoded data removed]",
      "text/plain": [
       "<Figure size 1500x800 with 32 Axes>"
      ]
     },
     "metadata": {},
     "output_type": "display_data"
    }
   ],
   "source": [
    "# Define a new model to get output of the ffirst convolutional layer\n",
    "\n",
    "layer_output = [layer.output for layer  in model.layers]\n",
    "activation_model = models.Model(inputs=model.input, outputs=layer_output)\n",
    "\n",
    "# Get the activation fot the test image\n",
    "test_images = test_image[0].reshape(1, 28, 28, 1)\n",
    "activations = activation_model.predict(test_images)\n",
    "\n",
    "# Extract the output of the first convolutional layer\n",
    "first_layer_activation = activations[0]\n",
    "\n",
    "# Plot the feature maps\n",
    "fig, ax = plt.subplots(4, 8, figsize=(15, 8))\n",
    "for i in range(32):\n",
    "    ax[i // 8, i % 8].imshow(first_layer_activation[0, :, :, i], cmap='viridis')\n",
    "    ax[i // 8, i % 8].axis('off')\n",
    "plt.show()"
   ]
  },
  {
   "cell_type": "markdown",
   "id": "78f8dfcf-8ced-40f7-93ea-28554f7c1a27",
   "metadata": {},
   "source": [
    "## Shows edge of Number 7 from mnist dataset"
   ]
  },
  {
   "cell_type": "code",
   "execution_count": 14,
   "id": "dc8cc26b-fe18-4b45-ba7d-c6f76adcd986",
   "metadata": {},
   "outputs": [],
   "source": [
    "from tensorflow.keras.preprocessing.image import ImageDataGenerator"
   ]
  },
  {
   "cell_type": "code",
   "execution_count": 16,
   "id": "cb669cc9-9bb3-4ef6-8b9a-f981b42f8115",
   "metadata": {},
   "outputs": [],
   "source": [
    "# Data agumentation\n",
    "datagen = ImageDataGenerator(\n",
    "    rotation_range=10,\n",
    "    width_shift_range=0.1,\n",
    "    height_shift_range=0.1,\n",
    "    shear_range=0.1,\n",
    "    zoom_range=0.1,\n",
    "    horizontal_flip=True,\n",
    "    fill_mode='nearest'\n",
    ")\n"
   ]
  },
  {
   "cell_type": "code",
   "execution_count": 17,
   "id": "6bcf40e7-0836-4de2-b490-4b4bd471b763",
   "metadata": {},
   "outputs": [],
   "source": [
    "# Fit the datagen on training data\n",
    "datagen.fit(train_image)\n",
    "\n",
    "# Modified model with dropout\n",
    "model = models.Sequential()\n",
    "\n",
    "# Convolutional layer with Dropout\n",
    "model.add(layers.Conv2D(32, (3, 3), activation='relu', input_shape=(28, 28, 1)))\n",
    "model.add(layers.MaxPooling2D((2, 2)))\n",
    "model.add(layers.Dropout(0.25))"
   ]
  },
  {
   "cell_type": "code",
   "execution_count": 18,
   "id": "6a0018fa-d596-4353-9435-766f6c399ab7",
   "metadata": {},
   "outputs": [],
   "source": [
    "# 2nd Convolutional layer with Dropout\n",
    "model.add(layers.Conv2D(64, (3, 3), activation='relu'))\n",
    "model.add(layers.MaxPooling2D((2, 2)))\n",
    "model.add(layers.Dropout(0.25))"
   ]
  },
  {
   "cell_type": "code",
   "execution_count": 19,
   "id": "ed8f4f39-5634-49d9-8d14-17f541ee34b2",
   "metadata": {},
   "outputs": [],
   "source": [
    "# Fully connected layers\n",
    "model.add(layers.Flatten())\n",
    "model.add(layers.Dense(128, activation='relu'))\n",
    "model.add(layers.Dropout(0.5))\n",
    "model.add(layers.Dense(10, activation='softmax'))\n",
    "\n",
    "model.compile(optimizer='adam',\n",
    "             loss='sparse_categorical_crossentropy',\n",
    "             metrics=['accuracy'])\n"
   ]
  },
  {
   "cell_type": "code",
   "execution_count": 21,
   "id": "ee29c4b4-fe7e-4e48-a863-0e63455180ca",
   "metadata": {},
   "outputs": [
    {
     "name": "stdout",
     "output_type": "stream",
     "text": [
      "Epoch 1/10\n",
      "938/938 [==============================] - 36s 37ms/step - loss: 0.8282 - accuracy: 0.7195 - val_loss: 0.1684 - val_accuracy: 0.9480\n",
      "Epoch 2/10\n",
      "938/938 [==============================] - 35s 37ms/step - loss: 0.4329 - accuracy: 0.8649 - val_loss: 0.0920 - val_accuracy: 0.9713\n",
      "Epoch 3/10\n",
      "938/938 [==============================] - 34s 37ms/step - loss: 0.3396 - accuracy: 0.8953 - val_loss: 0.0795 - val_accuracy: 0.9730\n",
      "Epoch 4/10\n",
      "938/938 [==============================] - 34s 37ms/step - loss: 0.2908 - accuracy: 0.9097 - val_loss: 0.0673 - val_accuracy: 0.9772\n",
      "Epoch 5/10\n",
      "938/938 [==============================] - 34s 36ms/step - loss: 0.2538 - accuracy: 0.9226 - val_loss: 0.0564 - val_accuracy: 0.9795\n",
      "Epoch 6/10\n",
      "938/938 [==============================] - 34s 37ms/step - loss: 0.2339 - accuracy: 0.9290 - val_loss: 0.0498 - val_accuracy: 0.9833\n",
      "Epoch 7/10\n",
      "938/938 [==============================] - 35s 37ms/step - loss: 0.2218 - accuracy: 0.9324 - val_loss: 0.0457 - val_accuracy: 0.9846\n",
      "Epoch 8/10\n",
      "938/938 [==============================] - 34s 36ms/step - loss: 0.2096 - accuracy: 0.9360 - val_loss: 0.0450 - val_accuracy: 0.9843\n",
      "Epoch 9/10\n",
      "938/938 [==============================] - 34s 37ms/step - loss: 0.1929 - accuracy: 0.9412 - val_loss: 0.0413 - val_accuracy: 0.9858\n",
      "Epoch 10/10\n",
      "938/938 [==============================] - 35s 37ms/step - loss: 0.1879 - accuracy: 0.9430 - val_loss: 0.0404 - val_accuracy: 0.9865\n"
     ]
    },
    {
     "data": {
      "text/plain": [
       "<keras.callbacks.History at 0x219ee0ef4c0>"
      ]
     },
     "execution_count": 21,
     "metadata": {},
     "output_type": "execute_result"
    }
   ],
   "source": [
    "# Train the model with data agumentation\n",
    "\n",
    "model.fit(datagen.flow(train_image, train_labels, batch_size=64),\n",
    "           epochs=10,\n",
    "           validation_data= (test_image, test_labels))"
   ]
  },
  {
   "cell_type": "markdown",
   "id": "3c8710b9-e825-4100-8c09-55866295a518",
   "metadata": {},
   "source": [
    "### Visualising Grad-CAM\n",
    "- Grad-CAM helps visualize class-discriminative regions of the input image."
   ]
  },
  {
   "cell_type": "code",
   "execution_count": 29,
   "id": "00448524-7406-4ca3-af16-8ba1e72dc082",
   "metadata": {},
   "outputs": [
    {
     "ename": "TypeError",
     "evalue": "Invalid shape (26, 28, 28, 3) for image data",
     "output_type": "error",
     "traceback": [
      "\u001b[1;31m---------------------------------------------------------------------------\u001b[0m",
      "\u001b[1;31mTypeError\u001b[0m                                 Traceback (most recent call last)",
      "Cell \u001b[1;32mIn[29], line 45\u001b[0m\n\u001b[0;32m     42\u001b[0m heatmap \u001b[38;5;241m=\u001b[39m compute_gradcam(test_image, gradcam_model)\n\u001b[0;32m     44\u001b[0m \u001b[38;5;66;03m# Plot Grad-CAM\u001b[39;00m\n\u001b[1;32m---> 45\u001b[0m \u001b[43mplot_gradcam\u001b[49m\u001b[43m(\u001b[49m\u001b[43mheatmap\u001b[49m\u001b[43m,\u001b[49m\u001b[43m \u001b[49m\u001b[43mtest_images\u001b[49m\u001b[43m[\u001b[49m\u001b[38;5;241;43m0\u001b[39;49m\u001b[43m]\u001b[49m\u001b[43m)\u001b[49m\n",
      "Cell \u001b[1;32mIn[29], line 31\u001b[0m, in \u001b[0;36mplot_gradcam\u001b[1;34m(heatmap, image)\u001b[0m\n\u001b[0;32m     29\u001b[0m jet_heatmap \u001b[38;5;241m=\u001b[39m tf\u001b[38;5;241m.\u001b[39mimage\u001b[38;5;241m.\u001b[39mresize(jet_heatmap, size\u001b[38;5;241m=\u001b[39m(\u001b[38;5;241m28\u001b[39m, \u001b[38;5;241m28\u001b[39m))\n\u001b[0;32m     30\u001b[0m superimposed_img \u001b[38;5;241m=\u001b[39m jet_heatmap \u001b[38;5;241m*\u001b[39m \u001b[38;5;241m0.4\u001b[39m \u001b[38;5;241m+\u001b[39m image\n\u001b[1;32m---> 31\u001b[0m \u001b[43mplt\u001b[49m\u001b[38;5;241;43m.\u001b[39;49m\u001b[43mimshow\u001b[49m\u001b[43m(\u001b[49m\u001b[43msuperimposed_img\u001b[49m\u001b[43m \u001b[49m\u001b[38;5;241;43m/\u001b[39;49m\u001b[43m \u001b[49m\u001b[38;5;241;43m255\u001b[39;49m\u001b[43m)\u001b[49m\n\u001b[0;32m     32\u001b[0m plt\u001b[38;5;241m.\u001b[39maxis(\u001b[38;5;124m'\u001b[39m\u001b[38;5;124moff\u001b[39m\u001b[38;5;124m'\u001b[39m)\n\u001b[0;32m     33\u001b[0m plt\u001b[38;5;241m.\u001b[39mshow()\n",
      "File \u001b[1;32m~\\.conda\\envs\\tf\\lib\\site-packages\\matplotlib\\pyplot.py:3358\u001b[0m, in \u001b[0;36mimshow\u001b[1;34m(X, cmap, norm, aspect, interpolation, alpha, vmin, vmax, origin, extent, interpolation_stage, filternorm, filterrad, resample, url, data, **kwargs)\u001b[0m\n\u001b[0;32m   3337\u001b[0m \u001b[38;5;129m@_copy_docstring_and_deprecators\u001b[39m(Axes\u001b[38;5;241m.\u001b[39mimshow)\n\u001b[0;32m   3338\u001b[0m \u001b[38;5;28;01mdef\u001b[39;00m \u001b[38;5;21mimshow\u001b[39m(\n\u001b[0;32m   3339\u001b[0m     X: ArrayLike \u001b[38;5;241m|\u001b[39m PIL\u001b[38;5;241m.\u001b[39mImage\u001b[38;5;241m.\u001b[39mImage,\n\u001b[1;32m   (...)\u001b[0m\n\u001b[0;32m   3356\u001b[0m     \u001b[38;5;241m*\u001b[39m\u001b[38;5;241m*\u001b[39mkwargs,\n\u001b[0;32m   3357\u001b[0m ) \u001b[38;5;241m-\u001b[39m\u001b[38;5;241m>\u001b[39m AxesImage:\n\u001b[1;32m-> 3358\u001b[0m     __ret \u001b[38;5;241m=\u001b[39m gca()\u001b[38;5;241m.\u001b[39mimshow(\n\u001b[0;32m   3359\u001b[0m         X,\n\u001b[0;32m   3360\u001b[0m         cmap\u001b[38;5;241m=\u001b[39mcmap,\n\u001b[0;32m   3361\u001b[0m         norm\u001b[38;5;241m=\u001b[39mnorm,\n\u001b[0;32m   3362\u001b[0m         aspect\u001b[38;5;241m=\u001b[39maspect,\n\u001b[0;32m   3363\u001b[0m         interpolation\u001b[38;5;241m=\u001b[39minterpolation,\n\u001b[0;32m   3364\u001b[0m         alpha\u001b[38;5;241m=\u001b[39malpha,\n\u001b[0;32m   3365\u001b[0m         vmin\u001b[38;5;241m=\u001b[39mvmin,\n\u001b[0;32m   3366\u001b[0m         vmax\u001b[38;5;241m=\u001b[39mvmax,\n\u001b[0;32m   3367\u001b[0m         origin\u001b[38;5;241m=\u001b[39morigin,\n\u001b[0;32m   3368\u001b[0m         extent\u001b[38;5;241m=\u001b[39mextent,\n\u001b[0;32m   3369\u001b[0m         interpolation_stage\u001b[38;5;241m=\u001b[39minterpolation_stage,\n\u001b[0;32m   3370\u001b[0m         filternorm\u001b[38;5;241m=\u001b[39mfilternorm,\n\u001b[0;32m   3371\u001b[0m         filterrad\u001b[38;5;241m=\u001b[39mfilterrad,\n\u001b[0;32m   3372\u001b[0m         resample\u001b[38;5;241m=\u001b[39mresample,\n\u001b[0;32m   3373\u001b[0m         url\u001b[38;5;241m=\u001b[39murl,\n\u001b[0;32m   3374\u001b[0m         \u001b[38;5;241m*\u001b[39m\u001b[38;5;241m*\u001b[39m({\u001b[38;5;124m\"\u001b[39m\u001b[38;5;124mdata\u001b[39m\u001b[38;5;124m\"\u001b[39m: data} \u001b[38;5;28;01mif\u001b[39;00m data \u001b[38;5;129;01mis\u001b[39;00m \u001b[38;5;129;01mnot\u001b[39;00m \u001b[38;5;28;01mNone\u001b[39;00m \u001b[38;5;28;01melse\u001b[39;00m {}),\n\u001b[0;32m   3375\u001b[0m         \u001b[38;5;241m*\u001b[39m\u001b[38;5;241m*\u001b[39mkwargs,\n\u001b[0;32m   3376\u001b[0m     )\n\u001b[0;32m   3377\u001b[0m     sci(__ret)\n\u001b[0;32m   3378\u001b[0m     \u001b[38;5;28;01mreturn\u001b[39;00m __ret\n",
      "File \u001b[1;32m~\\.conda\\envs\\tf\\lib\\site-packages\\matplotlib\\__init__.py:1465\u001b[0m, in \u001b[0;36m_preprocess_data.<locals>.inner\u001b[1;34m(ax, data, *args, **kwargs)\u001b[0m\n\u001b[0;32m   1462\u001b[0m \u001b[38;5;129m@functools\u001b[39m\u001b[38;5;241m.\u001b[39mwraps(func)\n\u001b[0;32m   1463\u001b[0m \u001b[38;5;28;01mdef\u001b[39;00m \u001b[38;5;21minner\u001b[39m(ax, \u001b[38;5;241m*\u001b[39margs, data\u001b[38;5;241m=\u001b[39m\u001b[38;5;28;01mNone\u001b[39;00m, \u001b[38;5;241m*\u001b[39m\u001b[38;5;241m*\u001b[39mkwargs):\n\u001b[0;32m   1464\u001b[0m     \u001b[38;5;28;01mif\u001b[39;00m data \u001b[38;5;129;01mis\u001b[39;00m \u001b[38;5;28;01mNone\u001b[39;00m:\n\u001b[1;32m-> 1465\u001b[0m         \u001b[38;5;28;01mreturn\u001b[39;00m func(ax, \u001b[38;5;241m*\u001b[39m\u001b[38;5;28mmap\u001b[39m(sanitize_sequence, args), \u001b[38;5;241m*\u001b[39m\u001b[38;5;241m*\u001b[39mkwargs)\n\u001b[0;32m   1467\u001b[0m     bound \u001b[38;5;241m=\u001b[39m new_sig\u001b[38;5;241m.\u001b[39mbind(ax, \u001b[38;5;241m*\u001b[39margs, \u001b[38;5;241m*\u001b[39m\u001b[38;5;241m*\u001b[39mkwargs)\n\u001b[0;32m   1468\u001b[0m     auto_label \u001b[38;5;241m=\u001b[39m (bound\u001b[38;5;241m.\u001b[39marguments\u001b[38;5;241m.\u001b[39mget(label_namer)\n\u001b[0;32m   1469\u001b[0m                   \u001b[38;5;129;01mor\u001b[39;00m bound\u001b[38;5;241m.\u001b[39mkwargs\u001b[38;5;241m.\u001b[39mget(label_namer))\n",
      "File \u001b[1;32m~\\.conda\\envs\\tf\\lib\\site-packages\\matplotlib\\axes\\_axes.py:5759\u001b[0m, in \u001b[0;36mAxes.imshow\u001b[1;34m(self, X, cmap, norm, aspect, interpolation, alpha, vmin, vmax, origin, extent, interpolation_stage, filternorm, filterrad, resample, url, **kwargs)\u001b[0m\n\u001b[0;32m   5756\u001b[0m \u001b[38;5;28;01mif\u001b[39;00m aspect \u001b[38;5;129;01mis\u001b[39;00m \u001b[38;5;129;01mnot\u001b[39;00m \u001b[38;5;28;01mNone\u001b[39;00m:\n\u001b[0;32m   5757\u001b[0m     \u001b[38;5;28mself\u001b[39m\u001b[38;5;241m.\u001b[39mset_aspect(aspect)\n\u001b[1;32m-> 5759\u001b[0m \u001b[43mim\u001b[49m\u001b[38;5;241;43m.\u001b[39;49m\u001b[43mset_data\u001b[49m\u001b[43m(\u001b[49m\u001b[43mX\u001b[49m\u001b[43m)\u001b[49m\n\u001b[0;32m   5760\u001b[0m im\u001b[38;5;241m.\u001b[39mset_alpha(alpha)\n\u001b[0;32m   5761\u001b[0m \u001b[38;5;28;01mif\u001b[39;00m im\u001b[38;5;241m.\u001b[39mget_clip_path() \u001b[38;5;129;01mis\u001b[39;00m \u001b[38;5;28;01mNone\u001b[39;00m:\n\u001b[0;32m   5762\u001b[0m     \u001b[38;5;66;03m# image does not already have clipping set, clip to axes patch\u001b[39;00m\n",
      "File \u001b[1;32m~\\.conda\\envs\\tf\\lib\\site-packages\\matplotlib\\image.py:723\u001b[0m, in \u001b[0;36m_ImageBase.set_data\u001b[1;34m(self, A)\u001b[0m\n\u001b[0;32m    721\u001b[0m \u001b[38;5;28;01mif\u001b[39;00m \u001b[38;5;28misinstance\u001b[39m(A, PIL\u001b[38;5;241m.\u001b[39mImage\u001b[38;5;241m.\u001b[39mImage):\n\u001b[0;32m    722\u001b[0m     A \u001b[38;5;241m=\u001b[39m pil_to_array(A)  \u001b[38;5;66;03m# Needed e.g. to apply png palette.\u001b[39;00m\n\u001b[1;32m--> 723\u001b[0m \u001b[38;5;28mself\u001b[39m\u001b[38;5;241m.\u001b[39m_A \u001b[38;5;241m=\u001b[39m \u001b[38;5;28;43mself\u001b[39;49m\u001b[38;5;241;43m.\u001b[39;49m\u001b[43m_normalize_image_array\u001b[49m\u001b[43m(\u001b[49m\u001b[43mA\u001b[49m\u001b[43m)\u001b[49m\n\u001b[0;32m    724\u001b[0m \u001b[38;5;28mself\u001b[39m\u001b[38;5;241m.\u001b[39m_imcache \u001b[38;5;241m=\u001b[39m \u001b[38;5;28;01mNone\u001b[39;00m\n\u001b[0;32m    725\u001b[0m \u001b[38;5;28mself\u001b[39m\u001b[38;5;241m.\u001b[39mstale \u001b[38;5;241m=\u001b[39m \u001b[38;5;28;01mTrue\u001b[39;00m\n",
      "File \u001b[1;32m~\\.conda\\envs\\tf\\lib\\site-packages\\matplotlib\\image.py:693\u001b[0m, in \u001b[0;36m_ImageBase._normalize_image_array\u001b[1;34m(A)\u001b[0m\n\u001b[0;32m    691\u001b[0m     A \u001b[38;5;241m=\u001b[39m A\u001b[38;5;241m.\u001b[39msqueeze(\u001b[38;5;241m-\u001b[39m\u001b[38;5;241m1\u001b[39m)  \u001b[38;5;66;03m# If just (M, N, 1), assume scalar and apply colormap.\u001b[39;00m\n\u001b[0;32m    692\u001b[0m \u001b[38;5;28;01mif\u001b[39;00m \u001b[38;5;129;01mnot\u001b[39;00m (A\u001b[38;5;241m.\u001b[39mndim \u001b[38;5;241m==\u001b[39m \u001b[38;5;241m2\u001b[39m \u001b[38;5;129;01mor\u001b[39;00m A\u001b[38;5;241m.\u001b[39mndim \u001b[38;5;241m==\u001b[39m \u001b[38;5;241m3\u001b[39m \u001b[38;5;129;01mand\u001b[39;00m A\u001b[38;5;241m.\u001b[39mshape[\u001b[38;5;241m-\u001b[39m\u001b[38;5;241m1\u001b[39m] \u001b[38;5;129;01min\u001b[39;00m [\u001b[38;5;241m3\u001b[39m, \u001b[38;5;241m4\u001b[39m]):\n\u001b[1;32m--> 693\u001b[0m     \u001b[38;5;28;01mraise\u001b[39;00m \u001b[38;5;167;01mTypeError\u001b[39;00m(\u001b[38;5;124mf\u001b[39m\u001b[38;5;124m\"\u001b[39m\u001b[38;5;124mInvalid shape \u001b[39m\u001b[38;5;132;01m{\u001b[39;00mA\u001b[38;5;241m.\u001b[39mshape\u001b[38;5;132;01m}\u001b[39;00m\u001b[38;5;124m for image data\u001b[39m\u001b[38;5;124m\"\u001b[39m)\n\u001b[0;32m    694\u001b[0m \u001b[38;5;28;01mif\u001b[39;00m A\u001b[38;5;241m.\u001b[39mndim \u001b[38;5;241m==\u001b[39m \u001b[38;5;241m3\u001b[39m:\n\u001b[0;32m    695\u001b[0m     \u001b[38;5;66;03m# If the input data has values outside the valid range (after\u001b[39;00m\n\u001b[0;32m    696\u001b[0m     \u001b[38;5;66;03m# normalisation), we issue a warning and then clip X to the bounds\u001b[39;00m\n\u001b[0;32m    697\u001b[0m     \u001b[38;5;66;03m# - otherwise casting wraps extreme values, hiding outliers and\u001b[39;00m\n\u001b[0;32m    698\u001b[0m     \u001b[38;5;66;03m# making reliable interpretation impossible.\u001b[39;00m\n\u001b[0;32m    699\u001b[0m     high \u001b[38;5;241m=\u001b[39m \u001b[38;5;241m255\u001b[39m \u001b[38;5;28;01mif\u001b[39;00m np\u001b[38;5;241m.\u001b[39missubdtype(A\u001b[38;5;241m.\u001b[39mdtype, np\u001b[38;5;241m.\u001b[39minteger) \u001b[38;5;28;01melse\u001b[39;00m \u001b[38;5;241m1\u001b[39m\n",
      "\u001b[1;31mTypeError\u001b[0m: Invalid shape (26, 28, 28, 3) for image data"
     ]
    },
    {
     "data": {
      "image/png": "[encoded data removed]",
      "text/plain": [
       "<Figure size 640x480 with 1 Axes>"
      ]
     },
     "metadata": {},
     "output_type": "display_data"
    }
   ],
   "source": [
    "def get_gradcam_model(model, layer_name):\n",
    "    grad_model = tf.keras.models.Model(\n",
    "        [model.inputs], \n",
    "        [model.get_layer(layer_name).output, model.output]\n",
    "    )\n",
    "    return grad_model\n",
    "\n",
    "def compute_gradcam(input_image, grad_model, pred_index=None):\n",
    "    with tf.GradientTape() as tape:\n",
    "        conv_outputs, predictions = grad_model(input_image)\n",
    "        if pred_index is None:\n",
    "            pred_index = tf.argmax(predictions[0])\n",
    "        class_channel = predictions[:, pred_index]\n",
    "\n",
    "    grads = tape.gradient(class_channel, conv_outputs)\n",
    "    pooled_grads = tf.reduce_mean(grads, axis=(0, 1, 2))\n",
    "    conv_outputs = conv_outputs[0]\n",
    "    heatmap = conv_outputs @ pooled_grads[..., tf.newaxis]\n",
    "    heatmap = tf.squeeze(heatmap)\n",
    "    heatmap = tf.maximum(heatmap, 0) / tf.math.reduce_max(heatmap)\n",
    "    return heatmap.numpy()\n",
    "\n",
    "def plot_gradcam(heatmap, image):\n",
    "    heatmap = np.uint8(255 * heatmap)\n",
    "    heatmap = np.expand_dims(heatmap, axis=-1)\n",
    "    jet = plt.get_cmap(\"jet\")\n",
    "    jet_heatmap = jet(np.arange(256))[:, :3]\n",
    "    jet_heatmap = jet_heatmap[heatmap]\n",
    "    jet_heatmap = tf.image.resize(jet_heatmap, size=(28, 28))\n",
    "    superimposed_img = jet_heatmap * 0.4 + image\n",
    "    plt.imshow(superimposed_img / 255)\n",
    "    plt.axis('off')\n",
    "    plt.show()\n",
    "\n",
    "# Get Grad-CAM model\n",
    "gradcam_model = get_gradcam_model(model, 'conv2d_4')\n",
    "\n",
    "# Get test image\n",
    "test_image = test_images[0].reshape(1, 28, 28, 1)\n",
    "\n",
    "# Compute Grad-CAM heatmap\n",
    "heatmap = compute_gradcam(test_image, gradcam_model)\n",
    "\n",
    "# Plot Grad-CAM\n",
    "plot_gradcam(heatmap, test_images[0])\n"
   ]
  },
  {
   "cell_type": "code",
   "execution_count": null,
   "id": "bc2c087a-0552-46bf-b5d7-c74116fac115",
   "metadata": {},
   "outputs": [],
   "source": []
  }
 ],
 "metadata": {
  "kernelspec": {
   "display_name": "Python 3 (ipykernel)",
   "language": "python",
   "name": "python3"
  },
  "language_info": {
   "codemirror_mode": {
    "name": "ipython",
    "version": 3
   },
   "file_extension": ".py",
   "mimetype": "text/x-python",
   "name": "python",
   "nbconvert_exporter": "python",
   "pygments_lexer": "ipython3",
   "version": "3.10.13"
  }
 },
 "nbformat": 4,
 "nbformat_minor": 5
}
